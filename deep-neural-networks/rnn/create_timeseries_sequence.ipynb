{
 "cells": [
  {
   "cell_type": "code",
   "execution_count": 1,
   "id": "34ef6f9b",
   "metadata": {
    "ExecuteTime": {
     "end_time": "2021-07-26T12:09:40.554682Z",
     "start_time": "2021-07-26T12:09:40.444663Z"
    }
   },
   "outputs": [],
   "source": [
    "import numpy as np"
   ]
  },
  {
   "cell_type": "code",
   "execution_count": null,
   "id": "39281a0d",
   "metadata": {},
   "outputs": [],
   "source": []
  },
  {
   "cell_type": "code",
   "execution_count": 4,
   "id": "9a565978",
   "metadata": {
    "ExecuteTime": {
     "end_time": "2021-07-26T12:09:58.776930Z",
     "start_time": "2021-07-26T12:09:58.764319Z"
    }
   },
   "outputs": [],
   "source": [
    "def createTimeseriesSequence_OLD(X, y, lookback):\n",
    "    '''\n",
    "    Inputs\n",
    "    X         A 2D numpy array ordered by time of shape: \n",
    "              (n_observations x n_features)\n",
    "    y         A 1D numpy array with indexes aligned with \n",
    "              X, i.e. y[i] should correspond to X[i]. \n",
    "              Shape: n_observations.\n",
    "    lookback  The window size to look back in the past \n",
    "              records. Shape: a scalar.\n",
    "\n",
    "    Output\n",
    "    output_X  A 3D numpy array of shape: \n",
    "              ((n_observations-lookback-1) x lookback x  n_features)\n",
    "    output_y  A 1D array of shape: \n",
    "              (n_observations-lookback-1), aligned with X.\n",
    "    '''\n",
    "    \n",
    "    output_X = []\n",
    "    output_y = []\n",
    "    for i in range(X.shape[0] - lookback - 1):\n",
    "        t = []\n",
    "        for j in range(1, lookback + 1):\n",
    "            # Gather the past records upto the lookback period\n",
    "            t.append(X[(i + j + 1), :])\n",
    "        output_X.append(t)\n",
    "        output_y.append(y[i + lookback + 1])\n",
    "        \n",
    "    return np.array(output_X), np.array(output_y)\n",
    "\n",
    "\n",
    "\n",
    "\n",
    "def createTimeseriesSequence(X, y, lookback):\n",
    "    '''\n",
    "    Inputs\n",
    "    X         A 2D numpy array ordered by time of shape: \n",
    "              (n_observations x n_features)\n",
    "    y         A 1D numpy array with indexes aligned with \n",
    "              X, i.e. y[i] should correspond to X[i]. \n",
    "              Shape: n_observations.\n",
    "    lookback  The window size to look back in the past \n",
    "              records. Shape: a scalar.\n",
    "\n",
    "    Output\n",
    "    output_X  A 3D numpy array of shape: \n",
    "              ((n_observations-lookback+1) x lookback x  n_features)\n",
    "    output_y  A 1D array of shape: \n",
    "              (n_observations-lookback+1), aligned with X.\n",
    "    '''\n",
    "    \n",
    "    output_X = []\n",
    "    output_y = []\n",
    "    for i in range(0, X.shape[0]-lookback+1):\n",
    "        t = []\n",
    "        for j in range(lookback):\n",
    "            t.append(X[(i+j), :])\n",
    "        \n",
    "        output_X.append(t)\n",
    "        output_y.append(y[i + lookback-1])   # Take the last label in the sequence\n",
    "        \n",
    "    return np.array(output_X), np.array(output_y)"
   ]
  },
  {
   "cell_type": "code",
   "execution_count": 7,
   "id": "a1c7c987",
   "metadata": {
    "ExecuteTime": {
     "end_time": "2021-07-26T12:10:46.386073Z",
     "start_time": "2021-07-26T12:10:46.359801Z"
    }
   },
   "outputs": [
    {
     "name": "stdout",
     "output_type": "stream",
     "text": [
      "Total:  8\n"
     ]
    },
    {
     "data": {
      "text/plain": [
       "(array([[[ 1],\n",
       "         [ 2],\n",
       "         [ 3]],\n",
       " \n",
       "        [[ 2],\n",
       "         [ 3],\n",
       "         [ 4]],\n",
       " \n",
       "        [[ 3],\n",
       "         [ 4],\n",
       "         [ 5]],\n",
       " \n",
       "        [[ 4],\n",
       "         [ 5],\n",
       "         [ 6]],\n",
       " \n",
       "        [[ 5],\n",
       "         [ 6],\n",
       "         [ 7]],\n",
       " \n",
       "        [[ 6],\n",
       "         [ 7],\n",
       "         [ 8]],\n",
       " \n",
       "        [[ 7],\n",
       "         [ 8],\n",
       "         [ 9]],\n",
       " \n",
       "        [[ 8],\n",
       "         [ 9],\n",
       "         [10]]]),\n",
       " array([0.3  , 0.4  , 0.5  , 1.6  , 1.7  , 1.8  , 1.9  , 1.101]))"
      ]
     },
     "execution_count": 7,
     "metadata": {},
     "output_type": "execute_result"
    }
   ],
   "source": [
    "X = np.array([ [1],[2],[3],[4],[5],[6],[7],[8],[9],[10] ])\n",
    "y = np.array([ 0.1, 0.2, 0.3, 0.4, 0.5 , 1.6, 1.7, 1.8, 1.9, 1.101])\n",
    "\n",
    "lookback = 3\n",
    "\n",
    "\n",
    "seq, labels = createTimeseriesSequence(X, y, lookback=lookback)\n",
    "\n",
    "print(\"Total: \", seq.shape[0])\n",
    "\n",
    "seq, labels"
   ]
  },
  {
   "cell_type": "code",
   "execution_count": null,
   "id": "6f2959d0",
   "metadata": {},
   "outputs": [],
   "source": []
  }
 ],
 "metadata": {
  "kernelspec": {
   "display_name": "Python 3",
   "language": "python",
   "name": "python3"
  },
  "language_info": {
   "codemirror_mode": {
    "name": "ipython",
    "version": 3
   },
   "file_extension": ".py",
   "mimetype": "text/x-python",
   "name": "python",
   "nbconvert_exporter": "python",
   "pygments_lexer": "ipython3",
   "version": "3.6.9"
  }
 },
 "nbformat": 4,
 "nbformat_minor": 5
}
